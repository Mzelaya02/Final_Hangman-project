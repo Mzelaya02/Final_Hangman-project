{
 "cells": [
  {
   "cell_type": "code",
   "execution_count": 2,
   "id": "d09edcbe",
   "metadata": {},
   "outputs": [],
   "source": [
    "import random"
   ]
  },
  {
   "cell_type": "code",
   "execution_count": 3,
   "id": "727b0a99",
   "metadata": {},
   "outputs": [],
   "source": [
    "# List of words the player is trying to guess\n",
    "word_list = [\"rabbit\", \"donkey\", \"kangaroo\", \"lion\", \"giraffe\", \"elephant\", \"deer\", \"sheep\", \"monkey\", \"alligator\"]"
   ]
  },
  {
   "cell_type": "code",
   "execution_count": 4,
   "id": "9dd9368a",
   "metadata": {},
   "outputs": [],
   "source": [
    "# This function would randomly pick a word from the list \n",
    "def choose_word():\n",
    "    return random.choice(word_list)"
   ]
  },
  {
   "cell_type": "code",
   "execution_count": 5,
   "id": "d563b534",
   "metadata": {},
   "outputs": [],
   "source": [
    "# Next, I defined a function to display the letters that have been guessed including the hidden words\n",
    "def display_word(word, guessed_letters):\n",
    "    displayed_word = \"\"\n",
    "    for letter in word:\n",
    "        if letter in guessed_letters:\n",
    "            displayed_word += letter\n",
    "        else:\n",
    "            displayed_word += \"_\"\n",
    "    print(displayed_word)\n"
   ]
  },
  {
   "cell_type": "code",
   "execution_count": 6,
   "id": "cf36a86e",
   "metadata": {},
   "outputs": [],
   "source": [
    "# In this function, it initializes the number of tries, guessed letters, and variables for the chosen word. \n",
    "def play_game():\n",
    "    word = choose_word()\n",
    "    guessed_letters = []\n",
    "    #The number of turns before the player loses\n",
    "    tries = 6\n",
    "    # Loop until the player has made too many failed attempts\n",
    "    # Will 'break' loop if they succeed instead\n",
    "    while tries > 0:\n",
    "        display_word(word, guessed_letters)\n",
    "        print(\"Tries left:\", tries)\n",
    "    # Will get the guessed letter from the player  \n",
    "        guess = input(\"Enter a letter: \").lower()\n",
    "\n",
    "        if guess in guessed_letters:\n",
    "            print(\"You already guessed that letter. Try again.\")\n",
    "        elif guess in word:\n",
    "            guessed_letters.append(guess)\n",
    "    # If there were no worng letters, then the player won!\n",
    "            if set(word) == set(guessed_letters):\n",
    "                print(\"Congratulations! You guessed the word:\", word)\n",
    "                break\n",
    "        else:\n",
    "            tries -= 1\n",
    "            print(\"Wrong guess!\")\n",
    "\n",
    "    if tries == 0:\n",
    "        print(\"Game over. The word was:\", word)"
   ]
  },
  {
   "cell_type": "code",
   "execution_count": null,
   "id": "84543300",
   "metadata": {},
   "outputs": [],
   "source": []
  },
  {
   "cell_type": "code",
   "execution_count": 7,
   "id": "49fedfe1",
   "metadata": {},
   "outputs": [
    {
     "name": "stdout",
     "output_type": "stream",
     "text": [
      "_________\n",
      "Tries left: 6\n",
      "Enter a letter: a\n",
      "a____a___\n",
      "Tries left: 6\n",
      "Enter a letter: e\n",
      "Wrong guess!\n",
      "a____a___\n",
      "Tries left: 5\n",
      "Enter a letter: t\n",
      "a____at__\n",
      "Tries left: 5\n",
      "Enter a letter: i\n",
      "a__i_at__\n",
      "Tries left: 5\n",
      "Enter a letter: o\n",
      "a__i_ato_\n",
      "Tries left: 5\n",
      "Enter a letter: l\n",
      "alli_ato_\n",
      "Tries left: 5\n",
      "Enter a letter: g\n",
      "alligato_\n",
      "Tries left: 5\n",
      "Enter a letter: r\n",
      "Congratulations! You guessed the word: alligator\n"
     ]
    }
   ],
   "source": [
    "# Running the program\n",
    "play_game()"
   ]
  }
 ],
 "metadata": {
  "kernelspec": {
   "display_name": "Python 3 (ipykernel)",
   "language": "python",
   "name": "python3"
  },
  "language_info": {
   "codemirror_mode": {
    "name": "ipython",
    "version": 3
   },
   "file_extension": ".py",
   "mimetype": "text/x-python",
   "name": "python",
   "nbconvert_exporter": "python",
   "pygments_lexer": "ipython3",
   "version": "3.9.13"
  }
 },
 "nbformat": 4,
 "nbformat_minor": 5
}
